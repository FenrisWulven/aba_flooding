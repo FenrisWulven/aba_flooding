{
 "cells": [
  {
   "cell_type": "markdown",
   "id": "c3f5d523",
   "metadata": {},
   "source": []
  },
  {
   "cell_type": "code",
   "execution_count": null,
   "id": "623dd6f1",
   "metadata": {},
   "outputs": [],
   "source": [
    "import geopandas as gpd\n",
    "from bokeh.io import output_notebook, show\n",
    "from bokeh.plotting import figure\n",
    "from bokeh.models import GeoJSONDataSource\n",
    "import os\n",
    "\n",
    "# Ensure Bokeh plots render in the notebook\n",
    "output_notebook()\n",
    "\n",
    "# Load the sediment GeoJSON (adjust path if needed)\n",
    "geojson_path = \"Sediment_wgs84.geojson\"\n",
    "\n",
    "if not os.path.exists(geojson_path):\n",
    "    raise FileNotFoundError(f\"File not found: {geojson_path}. Please check the path.\")\n",
    "\n",
    "gdf = gpd.read_file(geojson_path)\n",
    "\n",
    "# Convert GeoDataFrame to GeoJSONDataSource for Bokeh\n",
    "geosource = GeoJSONDataSource(geojson=gdf.to_json())\n",
    "\n",
    "# Create Bokeh figure\n",
    "p = figure(title=\"Sediment Types in Denmark\",\n",
    "           toolbar_location=\"above\",\n",
    "           match_aspect=True)\n",
    "p.xgrid.grid_line_color = None\n",
    "p.ygrid.grid_line_color = None\n",
    "\n",
    "# Add the sediment polygons\n",
    "p.patches('xs', 'ys', source=geosource,\n",
    "          fill_alpha=0.5,\n",
    "          fill_color='navy',\n",
    "          line_color='black', line_width=0.5)\n",
    "\n",
    "# Display the plot\n",
    "show(p)\n"
   ]
  }
 ],
 "metadata": {
  "kernelspec": {
   "display_name": ".venv",
   "language": "python",
   "name": "python3"
  },
  "language_info": {
   "name": "python",
   "version": "3.13.1"
  }
 },
 "nbformat": 4,
 "nbformat_minor": 5
}
